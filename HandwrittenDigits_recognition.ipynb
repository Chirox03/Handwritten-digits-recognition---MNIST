{
  "cells": [
    {
      "cell_type": "markdown",
      "metadata": {
        "id": "view-in-github",
        "colab_type": "text"
      },
      "source": [
        "<a href=\"https://colab.research.google.com/github/Chirox03/Handwritten-digits-recognition---MNIST/blob/main/Source%20code.ipynb\" target=\"_parent\"><img src=\"https://colab.research.google.com/assets/colab-badge.svg\" alt=\"Open In Colab\"/></a>"
      ]
    },
    {
      "cell_type": "code",
      "execution_count": 1,
      "metadata": {
        "id": "wvSYmoMb1LZ4"
      },
      "outputs": [],
      "source": [
        "# import the necessary packages\n",
        "from sklearn.preprocessing import LabelBinarizer\n",
        "from sklearn.metrics import classification_report\n",
        "from sklearn import datasets\n",
        "import matplotlib.pyplot as plt\n",
        "import numpy as np\n",
        "import random\n",
        "from tqdm import tqdm\n",
        "from sklearn.utils import shuffle"
      ]
    },
    {
      "cell_type": "code",
      "execution_count": 2,
      "metadata": {
        "id": "PIVu_2CXx855"
      },
      "outputs": [],
      "source": [
        "class NeuralNetwork:\n",
        "  def __init__(self, layers, learning_rate=0.1):\n",
        "    # initialize the list of weights matrices, then store the\n",
        "    # network architecture and learning rate\n",
        "    self.loss_history = []\n",
        "    self.W = []\n",
        "    self.layers = layers\n",
        "    self.learning_rate = learning_rate\n",
        "    for i in (np.arange(0, len(layers) - 2)):\n",
        "      w = np.random.randn(layers[i]+1,layers[i+1]+1)\n",
        "      self.W.append(w/np.sqrt(layers[i]))\n",
        "      w = np.random.randn(layers[-2]+1,layers[-1])\n",
        "      self.W.append(w/np.sqrt(layers[-2]))\n",
        "\n",
        "  def __repr__(self):\n",
        "    return \"NeuralNetwork: {}, Learning rate = {}\".format(\"-\".join(str(l) for l in self.layers),self.learning_rate)\n",
        "\n",
        "  def sigmoid(self,x):\n",
        "    return 1.0/(1+np.exp(-x))\n",
        "\n",
        "  def sigmoid_deriv(self,x):\n",
        "    return x*(1-x)\n",
        "\n",
        "  def calculate_loss_acc(self,X,target,addBias = True):\n",
        "    target = np.atleast_2d(target)\n",
        "    predictions = self.predict(X,addBias)\n",
        "    loss = 0.5*np.sum((predictions-target)**2)/len(X)\n",
        "    predictions = predictions.argmax(axis = 1)\n",
        "    target = target.argmax(axis = 1)\n",
        "    acc = np.sum(predictions == target)/len(target)*100 \n",
        "    return loss,acc\n",
        "\n",
        "  def feed_forward(self,x,y):\n",
        "    A = [np.atleast_2d(x)]\n",
        "    for layer in np.arange(0,len(self.W)):\n",
        "      z = A[layer].dot(self.W[layer])\n",
        "      a = self.sigmoid(z)\n",
        "      A.append(a)\n",
        "    return A\n",
        "\n",
        "  def back_propagation(self,A,y):\n",
        "    error = A[-1]-y # calculate the error between target and model's result\n",
        "    D = [error*self.sigmoid_deriv(A[-1])] #the maxtrix of gradient\n",
        "    #calculate the gradient backward\n",
        "    for layer in np.arange(len(A)-2,0,-1):\n",
        "      delta = D[-1].dot(self.W[layer].T)\n",
        "      delta = delta*self.sigmoid_deriv(A[layer])\n",
        "      D.append(delta)\n",
        "    #reverse the D matrix \n",
        "    D = D[::-1]\n",
        "    #update the W matrix\n",
        "    for layer in np.arange(0,len(self.W)):\n",
        "      self.W[layer] +=  - self.learning_rate*A[layer].T.dot(D[layer])\n",
        "\n",
        "  def fit(self, X_train,y_train,epochs=1000):\n",
        "    #add a 1s column into X in order to treat bias as a trainable param\n",
        "    X_train = np.c_[X_train,np.ones((X_train.shape[0]))]\n",
        "    #loop over epochs\n",
        "    for epoch in np.arange(0,epochs):\n",
        "      #shuffle training data\n",
        "      X_train,y_train = shuffle(X_train,y_train)\n",
        "      for(x,target) in tqdm(zip(X_train,y_train),total = len(X_train),desc = \"Epoch {}\".format(epoch+1)):\n",
        "        A = self.feed_forward(x,target) #feed forward, save a history of activaton\n",
        "        self.back_propagation(A,target) #back propagation\n",
        "      loss,acc = self.calculate_loss_acc(X_train,y_train,addBias = False)\n",
        "      self.loss_history.append(loss) #save loss history\n",
        "      #print loss and accuracy through training time\n",
        "      print(\"Loss: {0:15.9f}  Acc: {1:15.9f}%\".format(loss,acc))\n",
        "\n",
        "  def predict(self , X , addBias = True):\n",
        "    p = np.atleast_2d(X)\n",
        "    if addBias:\n",
        "      p = np.c_[p,np.ones((p.shape[0]))]\n",
        "    for layer in np.arange(0, len(self.W)):\n",
        "      p = self.sigmoid(np.dot(p,self.W[layer]))\n",
        "    return p\n",
        "  def evaluate(self,X_test,y_test):\n",
        "    print(\"Evaluating model.....\")\n",
        "    loss,acc = self.calculate_loss_acc(X_test,y_test,addBias=True)\n",
        "    print(\"Accuracy: {0:7f}%\\n\".format(acc))\n",
        "    print(\"Loss: {0:7f}\".format(loss))\n"
      ]
    },
    {
      "cell_type": "code",
      "execution_count": 3,
      "metadata": {
        "colab": {
          "base_uri": "https://localhost:8080/"
        },
        "id": "oQIKbrKMx3Ge",
        "outputId": "e848fc8b-77d6-48e3-8361-081555f52bc9"
      },
      "outputs": [
        {
          "output_type": "stream",
          "name": "stdout",
          "text": [
            "Downloading data from https://storage.googleapis.com/tensorflow/tf-keras-datasets/mnist.npz\n",
            "11493376/11490434 [==============================] - 0s 0us/step\n",
            "11501568/11490434 [==============================] - 0s 0us/step\n"
          ]
        },
        {
          "output_type": "execute_result",
          "data": {
            "text/plain": [
              "(10000, 784)"
            ]
          },
          "metadata": {},
          "execution_count": 3
        }
      ],
      "source": [
        "from keras.datasets import mnist\n",
        "(X_train, y_train), (X_test, y_test) = mnist.load_data()\n",
        "\n",
        "X_train = (X_train - X_train.min())/(X_train.max()-X_train.min())\n",
        "X_test = (X_test - X_test.min())/(X_test.max()-X_test.min())\n",
        "y_train= LabelBinarizer().fit_transform(y_train)\n",
        "y_test = LabelBinarizer().fit_transform(y_test)\n",
        "\n",
        "X_train = np.reshape(X_train,(X_train.shape[0],28*28))\n",
        "X_test = np.reshape(X_test,(X_test.shape[0],28*28))\n",
        "X_test.shape"
      ]
    },
    {
      "cell_type": "code",
      "execution_count": 4,
      "metadata": {
        "id": "VQKlx0QW-q2M"
      },
      "outputs": [],
      "source": [
        "def plot_example(X, y):\n",
        "    for i, (img, y) in enumerate(zip(X[:5].reshape(5, 28, 28), y[:5])):\n",
        "        plt.subplot(151 + i)\n",
        "        plt.imshow(img)\n",
        "        plt.xticks([])\n",
        "        plt.yticks([])\n",
        "        tmp = y.argmax()\n",
        "        plt.title(tmp)"
      ]
    },
    {
      "cell_type": "code",
      "execution_count": 5,
      "metadata": {
        "colab": {
          "base_uri": "https://localhost:8080/",
          "height": 108
        },
        "id": "5hQ1Gnyi-NMe",
        "outputId": "6275a17e-12ce-4509-892c-b60f1b377a0e"
      },
      "outputs": [
        {
          "output_type": "display_data",
          "data": {
            "text/plain": [
              "<Figure size 432x288 with 5 Axes>"
            ],
            "image/png": "[encoded data removed]"
          },
          "metadata": {}
        }
      ],
      "source": [
        "plot_example(X_train, y_train)"
      ]
    },
    {
      "cell_type": "code",
      "execution_count": 6,
      "metadata": {
        "colab": {
          "base_uri": "https://localhost:8080/"
        },
        "id": "DMrqBuVkzBQu",
        "outputId": "e219c8bf-46e7-4549-aaa7-80d17e385f9d"
      },
      "outputs": [
        {
          "output_type": "execute_result",
          "data": {
            "text/plain": [
              "60000"
            ]
          },
          "metadata": {},
          "execution_count": 6
        }
      ],
      "source": [
        "X_train.shape[0]"
      ]
    },
    {
      "cell_type": "code",
      "execution_count": 7,
      "metadata": {
        "colab": {
          "base_uri": "https://localhost:8080/"
        },
        "id": "Z8bRMYGD6mMU",
        "outputId": "ad762f7c-9ec3-45fe-8b59-a512a0c419e4"
      },
      "outputs": [
        {
          "output_type": "stream",
          "name": "stdout",
          "text": [
            "Infor: NeuralNetwork: 784-86-10, Learning rate = 0.015\n",
            "Training network.....\n",
            "\n"
          ]
        },
        {
          "output_type": "stream",
          "name": "stderr",
          "text": [
            "Epoch 1: 100%|██████████| 60000/60000 [00:44<00:00, 1334.73it/s]\n"
          ]
        },
        {
          "output_type": "stream",
          "name": "stdout",
          "text": [
            "Loss:     0.094629543  Acc:    89.980000000%\n"
          ]
        },
        {
          "output_type": "stream",
          "name": "stderr",
          "text": [
            "Epoch 2: 100%|██████████| 60000/60000 [00:28<00:00, 2079.92it/s]\n"
          ]
        },
        {
          "output_type": "stream",
          "name": "stdout",
          "text": [
            "Loss:     0.075726612  Acc:    91.555000000%\n"
          ]
        },
        {
          "output_type": "stream",
          "name": "stderr",
          "text": [
            "Epoch 3: 100%|██████████| 60000/60000 [00:28<00:00, 2092.73it/s]\n"
          ]
        },
        {
          "output_type": "stream",
          "name": "stdout",
          "text": [
            "Loss:     0.066132068  Acc:    92.585000000%\n"
          ]
        },
        {
          "output_type": "stream",
          "name": "stderr",
          "text": [
            "Epoch 4: 100%|██████████| 60000/60000 [00:28<00:00, 2079.71it/s]\n"
          ]
        },
        {
          "output_type": "stream",
          "name": "stdout",
          "text": [
            "Loss:     0.058761797  Acc:    93.338333333%\n"
          ]
        },
        {
          "output_type": "stream",
          "name": "stderr",
          "text": [
            "Epoch 5: 100%|██████████| 60000/60000 [00:28<00:00, 2088.01it/s]\n"
          ]
        },
        {
          "output_type": "stream",
          "name": "stdout",
          "text": [
            "Loss:     0.053706329  Acc:    93.988333333%\n"
          ]
        },
        {
          "output_type": "stream",
          "name": "stderr",
          "text": [
            "Epoch 6: 100%|██████████| 60000/60000 [00:28<00:00, 2092.45it/s]\n"
          ]
        },
        {
          "output_type": "stream",
          "name": "stdout",
          "text": [
            "Loss:     0.049981913  Acc:    94.423333333%\n"
          ]
        },
        {
          "output_type": "stream",
          "name": "stderr",
          "text": [
            "Epoch 7: 100%|██████████| 60000/60000 [00:29<00:00, 2048.28it/s]\n"
          ]
        },
        {
          "output_type": "stream",
          "name": "stdout",
          "text": [
            "Loss:     0.046697056  Acc:    94.748333333%\n"
          ]
        },
        {
          "output_type": "stream",
          "name": "stderr",
          "text": [
            "Epoch 8: 100%|██████████| 60000/60000 [00:28<00:00, 2096.09it/s]\n"
          ]
        },
        {
          "output_type": "stream",
          "name": "stdout",
          "text": [
            "Loss:     0.043587467  Acc:    95.135000000%\n"
          ]
        },
        {
          "output_type": "stream",
          "name": "stderr",
          "text": [
            "Epoch 9: 100%|██████████| 60000/60000 [00:28<00:00, 2091.98it/s]\n"
          ]
        },
        {
          "output_type": "stream",
          "name": "stdout",
          "text": [
            "Loss:     0.041377883  Acc:    95.280000000%\n"
          ]
        },
        {
          "output_type": "stream",
          "name": "stderr",
          "text": [
            "Epoch 10: 100%|██████████| 60000/60000 [00:28<00:00, 2085.09it/s]\n"
          ]
        },
        {
          "output_type": "stream",
          "name": "stdout",
          "text": [
            "Loss:     0.039175836  Acc:    95.660000000%\n"
          ]
        },
        {
          "output_type": "stream",
          "name": "stderr",
          "text": [
            "Epoch 11: 100%|██████████| 60000/60000 [00:29<00:00, 2043.41it/s]\n"
          ]
        },
        {
          "output_type": "stream",
          "name": "stdout",
          "text": [
            "Loss:     0.037454124  Acc:    95.850000000%\n"
          ]
        },
        {
          "output_type": "stream",
          "name": "stderr",
          "text": [
            "Epoch 12: 100%|██████████| 60000/60000 [00:28<00:00, 2077.06it/s]\n"
          ]
        },
        {
          "output_type": "stream",
          "name": "stdout",
          "text": [
            "Loss:     0.035922791  Acc:    96.018333333%\n"
          ]
        },
        {
          "output_type": "stream",
          "name": "stderr",
          "text": [
            "Epoch 13: 100%|██████████| 60000/60000 [00:28<00:00, 2102.61it/s]\n"
          ]
        },
        {
          "output_type": "stream",
          "name": "stdout",
          "text": [
            "Loss:     0.034000585  Acc:    96.265000000%\n"
          ]
        },
        {
          "output_type": "stream",
          "name": "stderr",
          "text": [
            "Epoch 14: 100%|██████████| 60000/60000 [00:28<00:00, 2087.63it/s]\n"
          ]
        },
        {
          "output_type": "stream",
          "name": "stdout",
          "text": [
            "Loss:     0.032857883  Acc:    96.390000000%\n"
          ]
        },
        {
          "output_type": "stream",
          "name": "stderr",
          "text": [
            "Epoch 15: 100%|██████████| 60000/60000 [00:28<00:00, 2097.84it/s]\n"
          ]
        },
        {
          "output_type": "stream",
          "name": "stdout",
          "text": [
            "Loss:     0.031560152  Acc:    96.536666667%\n"
          ]
        },
        {
          "output_type": "stream",
          "name": "stderr",
          "text": [
            "Epoch 16: 100%|██████████| 60000/60000 [00:28<00:00, 2115.61it/s]\n"
          ]
        },
        {
          "output_type": "stream",
          "name": "stdout",
          "text": [
            "Loss:     0.030547741  Acc:    96.695000000%\n"
          ]
        },
        {
          "output_type": "stream",
          "name": "stderr",
          "text": [
            "Epoch 17: 100%|██████████| 60000/60000 [00:28<00:00, 2105.68it/s]\n"
          ]
        },
        {
          "output_type": "stream",
          "name": "stdout",
          "text": [
            "Loss:     0.029025377  Acc:    96.840000000%\n"
          ]
        },
        {
          "output_type": "stream",
          "name": "stderr",
          "text": [
            "Epoch 18: 100%|██████████| 60000/60000 [00:28<00:00, 2108.77it/s]\n"
          ]
        },
        {
          "output_type": "stream",
          "name": "stdout",
          "text": [
            "Loss:     0.028231563  Acc:    96.973333333%\n"
          ]
        },
        {
          "output_type": "stream",
          "name": "stderr",
          "text": [
            "Epoch 19: 100%|██████████| 60000/60000 [00:28<00:00, 2101.57it/s]\n"
          ]
        },
        {
          "output_type": "stream",
          "name": "stdout",
          "text": [
            "Loss:     0.027229014  Acc:    97.080000000%\n"
          ]
        },
        {
          "output_type": "stream",
          "name": "stderr",
          "text": [
            "Epoch 20: 100%|██████████| 60000/60000 [00:28<00:00, 2110.10it/s]\n"
          ]
        },
        {
          "output_type": "stream",
          "name": "stdout",
          "text": [
            "Loss:     0.026658591  Acc:    97.226666667%\n"
          ]
        },
        {
          "output_type": "stream",
          "name": "stderr",
          "text": [
            "Epoch 21: 100%|██████████| 60000/60000 [00:28<00:00, 2107.97it/s]\n"
          ]
        },
        {
          "output_type": "stream",
          "name": "stdout",
          "text": [
            "Loss:     0.025843987  Acc:    97.303333333%\n"
          ]
        },
        {
          "output_type": "stream",
          "name": "stderr",
          "text": [
            "Epoch 22: 100%|██████████| 60000/60000 [00:28<00:00, 2093.23it/s]\n"
          ]
        },
        {
          "output_type": "stream",
          "name": "stdout",
          "text": [
            "Loss:     0.024833972  Acc:    97.410000000%\n"
          ]
        },
        {
          "output_type": "stream",
          "name": "stderr",
          "text": [
            "Epoch 23: 100%|██████████| 60000/60000 [00:28<00:00, 2105.64it/s]\n"
          ]
        },
        {
          "output_type": "stream",
          "name": "stdout",
          "text": [
            "Loss:     0.024080731  Acc:    97.503333333%\n"
          ]
        },
        {
          "output_type": "stream",
          "name": "stderr",
          "text": [
            "Epoch 24: 100%|██████████| 60000/60000 [00:28<00:00, 2115.57it/s]\n"
          ]
        },
        {
          "output_type": "stream",
          "name": "stdout",
          "text": [
            "Loss:     0.023597493  Acc:    97.546666667%\n"
          ]
        },
        {
          "output_type": "stream",
          "name": "stderr",
          "text": [
            "Epoch 25: 100%|██████████| 60000/60000 [00:28<00:00, 2115.08it/s]\n"
          ]
        },
        {
          "output_type": "stream",
          "name": "stdout",
          "text": [
            "Loss:     0.022815531  Acc:    97.686666667%\n"
          ]
        },
        {
          "output_type": "stream",
          "name": "stderr",
          "text": [
            "Epoch 26: 100%|██████████| 60000/60000 [00:28<00:00, 2103.20it/s]\n"
          ]
        },
        {
          "output_type": "stream",
          "name": "stdout",
          "text": [
            "Loss:     0.022200781  Acc:    97.768333333%\n"
          ]
        },
        {
          "output_type": "stream",
          "name": "stderr",
          "text": [
            "Epoch 27: 100%|██████████| 60000/60000 [00:28<00:00, 2111.50it/s]\n"
          ]
        },
        {
          "output_type": "stream",
          "name": "stdout",
          "text": [
            "Loss:     0.021781960  Acc:    97.796666667%\n"
          ]
        },
        {
          "output_type": "stream",
          "name": "stderr",
          "text": [
            "Epoch 28: 100%|██████████| 60000/60000 [00:28<00:00, 2105.54it/s]\n"
          ]
        },
        {
          "output_type": "stream",
          "name": "stdout",
          "text": [
            "Loss:     0.021076120  Acc:    97.860000000%\n"
          ]
        },
        {
          "output_type": "stream",
          "name": "stderr",
          "text": [
            "Epoch 29: 100%|██████████| 60000/60000 [00:28<00:00, 2120.41it/s]\n"
          ]
        },
        {
          "output_type": "stream",
          "name": "stdout",
          "text": [
            "Loss:     0.020671657  Acc:    97.913333333%\n"
          ]
        },
        {
          "output_type": "stream",
          "name": "stderr",
          "text": [
            "Epoch 30: 100%|██████████| 60000/60000 [00:25<00:00, 2362.80it/s]\n"
          ]
        },
        {
          "output_type": "stream",
          "name": "stdout",
          "text": [
            "Loss:     0.020150650  Acc:    97.996666667%\n"
          ]
        },
        {
          "output_type": "stream",
          "name": "stderr",
          "text": [
            "Epoch 31: 100%|██████████| 60000/60000 [00:27<00:00, 2148.63it/s]\n"
          ]
        },
        {
          "output_type": "stream",
          "name": "stdout",
          "text": [
            "Loss:     0.019537045  Acc:    98.041666667%\n"
          ]
        },
        {
          "output_type": "stream",
          "name": "stderr",
          "text": [
            "Epoch 32: 100%|██████████| 60000/60000 [00:25<00:00, 2341.88it/s]\n"
          ]
        },
        {
          "output_type": "stream",
          "name": "stdout",
          "text": [
            "Loss:     0.019086528  Acc:    98.101666667%\n"
          ]
        },
        {
          "output_type": "stream",
          "name": "stderr",
          "text": [
            "Epoch 33: 100%|██████████| 60000/60000 [00:27<00:00, 2155.45it/s]\n"
          ]
        },
        {
          "output_type": "stream",
          "name": "stdout",
          "text": [
            "Loss:     0.018679386  Acc:    98.190000000%\n"
          ]
        },
        {
          "output_type": "stream",
          "name": "stderr",
          "text": [
            "Epoch 34: 100%|██████████| 60000/60000 [00:25<00:00, 2381.79it/s]\n"
          ]
        },
        {
          "output_type": "stream",
          "name": "stdout",
          "text": [
            "Loss:     0.018290361  Acc:    98.223333333%\n"
          ]
        },
        {
          "output_type": "stream",
          "name": "stderr",
          "text": [
            "Epoch 35: 100%|██████████| 60000/60000 [00:27<00:00, 2172.37it/s]\n"
          ]
        },
        {
          "output_type": "stream",
          "name": "stdout",
          "text": [
            "Loss:     0.017919208  Acc:    98.298333333%\n"
          ]
        },
        {
          "output_type": "stream",
          "name": "stderr",
          "text": [
            "Epoch 36: 100%|██████████| 60000/60000 [00:25<00:00, 2359.79it/s]\n"
          ]
        },
        {
          "output_type": "stream",
          "name": "stdout",
          "text": [
            "Loss:     0.017394726  Acc:    98.318333333%\n"
          ]
        },
        {
          "output_type": "stream",
          "name": "stderr",
          "text": [
            "Epoch 37: 100%|██████████| 60000/60000 [00:27<00:00, 2147.38it/s]\n"
          ]
        },
        {
          "output_type": "stream",
          "name": "stdout",
          "text": [
            "Loss:     0.017229942  Acc:    98.346666667%\n"
          ]
        },
        {
          "output_type": "stream",
          "name": "stderr",
          "text": [
            "Epoch 38: 100%|██████████| 60000/60000 [00:25<00:00, 2348.60it/s]\n"
          ]
        },
        {
          "output_type": "stream",
          "name": "stdout",
          "text": [
            "Loss:     0.016947964  Acc:    98.373333333%\n"
          ]
        },
        {
          "output_type": "stream",
          "name": "stderr",
          "text": [
            "Epoch 39: 100%|██████████| 60000/60000 [00:28<00:00, 2125.03it/s]\n"
          ]
        },
        {
          "output_type": "stream",
          "name": "stdout",
          "text": [
            "Loss:     0.016408289  Acc:    98.431666667%\n"
          ]
        },
        {
          "output_type": "stream",
          "name": "stderr",
          "text": [
            "Epoch 40: 100%|██████████| 60000/60000 [00:25<00:00, 2355.34it/s]\n"
          ]
        },
        {
          "output_type": "stream",
          "name": "stdout",
          "text": [
            "Loss:     0.016018213  Acc:    98.480000000%\n"
          ]
        },
        {
          "output_type": "stream",
          "name": "stderr",
          "text": [
            "Epoch 41: 100%|██████████| 60000/60000 [00:27<00:00, 2151.42it/s]\n"
          ]
        },
        {
          "output_type": "stream",
          "name": "stdout",
          "text": [
            "Loss:     0.015678513  Acc:    98.511666667%\n"
          ]
        },
        {
          "output_type": "stream",
          "name": "stderr",
          "text": [
            "Epoch 42: 100%|██████████| 60000/60000 [00:25<00:00, 2380.76it/s]\n"
          ]
        },
        {
          "output_type": "stream",
          "name": "stdout",
          "text": [
            "Loss:     0.015653960  Acc:    98.538333333%\n"
          ]
        },
        {
          "output_type": "stream",
          "name": "stderr",
          "text": [
            "Epoch 43: 100%|██████████| 60000/60000 [00:27<00:00, 2152.84it/s]\n"
          ]
        },
        {
          "output_type": "stream",
          "name": "stdout",
          "text": [
            "Loss:     0.015166458  Acc:    98.546666667%\n"
          ]
        },
        {
          "output_type": "stream",
          "name": "stderr",
          "text": [
            "Epoch 44: 100%|██████████| 60000/60000 [00:25<00:00, 2347.71it/s]\n"
          ]
        },
        {
          "output_type": "stream",
          "name": "stdout",
          "text": [
            "Loss:     0.014965469  Acc:    98.628333333%\n"
          ]
        },
        {
          "output_type": "stream",
          "name": "stderr",
          "text": [
            "Epoch 45: 100%|██████████| 60000/60000 [00:27<00:00, 2156.04it/s]\n"
          ]
        },
        {
          "output_type": "stream",
          "name": "stdout",
          "text": [
            "Loss:     0.014653173  Acc:    98.630000000%\n"
          ]
        },
        {
          "output_type": "stream",
          "name": "stderr",
          "text": [
            "Epoch 46: 100%|██████████| 60000/60000 [00:25<00:00, 2353.06it/s]\n"
          ]
        },
        {
          "output_type": "stream",
          "name": "stdout",
          "text": [
            "Loss:     0.014398101  Acc:    98.666666667%\n"
          ]
        },
        {
          "output_type": "stream",
          "name": "stderr",
          "text": [
            "Epoch 47: 100%|██████████| 60000/60000 [00:27<00:00, 2153.85it/s]\n"
          ]
        },
        {
          "output_type": "stream",
          "name": "stdout",
          "text": [
            "Loss:     0.014181571  Acc:    98.683333333%\n"
          ]
        },
        {
          "output_type": "stream",
          "name": "stderr",
          "text": [
            "Epoch 48: 100%|██████████| 60000/60000 [00:29<00:00, 2064.90it/s]\n"
          ]
        },
        {
          "output_type": "stream",
          "name": "stdout",
          "text": [
            "Loss:     0.013921907  Acc:    98.720000000%\n"
          ]
        },
        {
          "output_type": "stream",
          "name": "stderr",
          "text": [
            "Epoch 49: 100%|██████████| 60000/60000 [00:27<00:00, 2168.98it/s]\n"
          ]
        },
        {
          "output_type": "stream",
          "name": "stdout",
          "text": [
            "Loss:     0.013717673  Acc:    98.738333333%\n"
          ]
        },
        {
          "output_type": "stream",
          "name": "stderr",
          "text": [
            "Epoch 50: 100%|██████████| 60000/60000 [00:28<00:00, 2076.38it/s]\n"
          ]
        },
        {
          "output_type": "stream",
          "name": "stdout",
          "text": [
            "Loss:     0.013558515  Acc:    98.753333333%\n"
          ]
        },
        {
          "output_type": "stream",
          "name": "stderr",
          "text": [
            "Epoch 51: 100%|██████████| 60000/60000 [00:27<00:00, 2148.51it/s]\n"
          ]
        },
        {
          "output_type": "stream",
          "name": "stdout",
          "text": [
            "Loss:     0.013231000  Acc:    98.783333333%\n"
          ]
        },
        {
          "output_type": "stream",
          "name": "stderr",
          "text": [
            "Epoch 52: 100%|██████████| 60000/60000 [00:29<00:00, 2061.61it/s]\n"
          ]
        },
        {
          "output_type": "stream",
          "name": "stdout",
          "text": [
            "Loss:     0.012925954  Acc:    98.820000000%\n"
          ]
        },
        {
          "output_type": "stream",
          "name": "stderr",
          "text": [
            "Epoch 53: 100%|██████████| 60000/60000 [00:27<00:00, 2153.65it/s]\n"
          ]
        },
        {
          "output_type": "stream",
          "name": "stdout",
          "text": [
            "Loss:     0.012839745  Acc:    98.828333333%\n"
          ]
        },
        {
          "output_type": "stream",
          "name": "stderr",
          "text": [
            "Epoch 54: 100%|██████████| 60000/60000 [00:29<00:00, 2042.90it/s]\n"
          ]
        },
        {
          "output_type": "stream",
          "name": "stdout",
          "text": [
            "Loss:     0.012506651  Acc:    98.865000000%\n"
          ]
        },
        {
          "output_type": "stream",
          "name": "stderr",
          "text": [
            "Epoch 55: 100%|██████████| 60000/60000 [00:27<00:00, 2146.75it/s]\n"
          ]
        },
        {
          "output_type": "stream",
          "name": "stdout",
          "text": [
            "Loss:     0.012773757  Acc:    98.856666667%\n"
          ]
        },
        {
          "output_type": "stream",
          "name": "stderr",
          "text": [
            "Epoch 56: 100%|██████████| 60000/60000 [00:29<00:00, 2057.90it/s]\n"
          ]
        },
        {
          "output_type": "stream",
          "name": "stdout",
          "text": [
            "Loss:     0.012251762  Acc:    98.886666667%\n"
          ]
        },
        {
          "output_type": "stream",
          "name": "stderr",
          "text": [
            "Epoch 57: 100%|██████████| 60000/60000 [00:27<00:00, 2147.89it/s]\n"
          ]
        },
        {
          "output_type": "stream",
          "name": "stdout",
          "text": [
            "Loss:     0.012010537  Acc:    98.920000000%\n"
          ]
        },
        {
          "output_type": "stream",
          "name": "stderr",
          "text": [
            "Epoch 58: 100%|██████████| 60000/60000 [00:29<00:00, 2062.41it/s]\n"
          ]
        },
        {
          "output_type": "stream",
          "name": "stdout",
          "text": [
            "Loss:     0.011829066  Acc:    98.920000000%\n"
          ]
        },
        {
          "output_type": "stream",
          "name": "stderr",
          "text": [
            "Epoch 59: 100%|██████████| 60000/60000 [00:27<00:00, 2154.22it/s]\n"
          ]
        },
        {
          "output_type": "stream",
          "name": "stdout",
          "text": [
            "Loss:     0.011959844  Acc:    98.928333333%\n"
          ]
        },
        {
          "output_type": "stream",
          "name": "stderr",
          "text": [
            "Epoch 60: 100%|██████████| 60000/60000 [00:29<00:00, 2067.52it/s]\n"
          ]
        },
        {
          "output_type": "stream",
          "name": "stdout",
          "text": [
            "Loss:     0.011525037  Acc:    98.955000000%\n"
          ]
        },
        {
          "output_type": "stream",
          "name": "stderr",
          "text": [
            "Epoch 61: 100%|██████████| 60000/60000 [00:28<00:00, 2130.25it/s]\n"
          ]
        },
        {
          "output_type": "stream",
          "name": "stdout",
          "text": [
            "Loss:     0.011371355  Acc:    98.965000000%\n"
          ]
        },
        {
          "output_type": "stream",
          "name": "stderr",
          "text": [
            "Epoch 62: 100%|██████████| 60000/60000 [00:29<00:00, 2062.63it/s]\n"
          ]
        },
        {
          "output_type": "stream",
          "name": "stdout",
          "text": [
            "Loss:     0.011148283  Acc:    98.975000000%\n"
          ]
        },
        {
          "output_type": "stream",
          "name": "stderr",
          "text": [
            "Epoch 63: 100%|██████████| 60000/60000 [00:27<00:00, 2144.46it/s]\n"
          ]
        },
        {
          "output_type": "stream",
          "name": "stdout",
          "text": [
            "Loss:     0.011059324  Acc:    98.990000000%\n"
          ]
        },
        {
          "output_type": "stream",
          "name": "stderr",
          "text": [
            "Epoch 64: 100%|██████████| 60000/60000 [00:29<00:00, 2018.71it/s]\n"
          ]
        },
        {
          "output_type": "stream",
          "name": "stdout",
          "text": [
            "Loss:     0.010991838  Acc:    98.980000000%\n"
          ]
        },
        {
          "output_type": "stream",
          "name": "stderr",
          "text": [
            "Epoch 65: 100%|██████████| 60000/60000 [00:27<00:00, 2147.65it/s]\n"
          ]
        },
        {
          "output_type": "stream",
          "name": "stdout",
          "text": [
            "Loss:     0.010690993  Acc:    99.025000000%\n"
          ]
        },
        {
          "output_type": "stream",
          "name": "stderr",
          "text": [
            "Epoch 66: 100%|██████████| 60000/60000 [00:29<00:00, 2063.97it/s]\n"
          ]
        },
        {
          "output_type": "stream",
          "name": "stdout",
          "text": [
            "Loss:     0.010566452  Acc:    99.041666667%\n"
          ]
        },
        {
          "output_type": "stream",
          "name": "stderr",
          "text": [
            "Epoch 67: 100%|██████████| 60000/60000 [00:28<00:00, 2121.03it/s]\n"
          ]
        },
        {
          "output_type": "stream",
          "name": "stdout",
          "text": [
            "Loss:     0.010400722  Acc:    99.065000000%\n"
          ]
        },
        {
          "output_type": "stream",
          "name": "stderr",
          "text": [
            "Epoch 68: 100%|██████████| 60000/60000 [00:29<00:00, 2059.37it/s]\n"
          ]
        },
        {
          "output_type": "stream",
          "name": "stdout",
          "text": [
            "Loss:     0.010277066  Acc:    99.053333333%\n"
          ]
        },
        {
          "output_type": "stream",
          "name": "stderr",
          "text": [
            "Epoch 69: 100%|██████████| 60000/60000 [00:28<00:00, 2122.12it/s]\n"
          ]
        },
        {
          "output_type": "stream",
          "name": "stdout",
          "text": [
            "Loss:     0.010119534  Acc:    99.058333333%\n"
          ]
        },
        {
          "output_type": "stream",
          "name": "stderr",
          "text": [
            "Epoch 70: 100%|██████████| 60000/60000 [00:29<00:00, 2041.18it/s]\n"
          ]
        },
        {
          "output_type": "stream",
          "name": "stdout",
          "text": [
            "Loss:     0.010008750  Acc:    99.086666667%\n"
          ]
        },
        {
          "output_type": "stream",
          "name": "stderr",
          "text": [
            "Epoch 71: 100%|██████████| 60000/60000 [00:27<00:00, 2146.16it/s]\n"
          ]
        },
        {
          "output_type": "stream",
          "name": "stdout",
          "text": [
            "Loss:     0.009863405  Acc:    99.095000000%\n"
          ]
        },
        {
          "output_type": "stream",
          "name": "stderr",
          "text": [
            "Epoch 72: 100%|██████████| 60000/60000 [00:29<00:00, 2059.27it/s]\n"
          ]
        },
        {
          "output_type": "stream",
          "name": "stdout",
          "text": [
            "Loss:     0.009729575  Acc:    99.101666667%\n"
          ]
        },
        {
          "output_type": "stream",
          "name": "stderr",
          "text": [
            "Epoch 73: 100%|██████████| 60000/60000 [00:27<00:00, 2151.45it/s]\n"
          ]
        },
        {
          "output_type": "stream",
          "name": "stdout",
          "text": [
            "Loss:     0.009579198  Acc:    99.118333333%\n"
          ]
        },
        {
          "output_type": "stream",
          "name": "stderr",
          "text": [
            "Epoch 74: 100%|██████████| 60000/60000 [00:29<00:00, 2039.45it/s]\n"
          ]
        },
        {
          "output_type": "stream",
          "name": "stdout",
          "text": [
            "Loss:     0.009505439  Acc:    99.128333333%\n"
          ]
        },
        {
          "output_type": "stream",
          "name": "stderr",
          "text": [
            "Epoch 75: 100%|██████████| 60000/60000 [00:27<00:00, 2154.14it/s]\n"
          ]
        },
        {
          "output_type": "stream",
          "name": "stdout",
          "text": [
            "Loss:     0.009337346  Acc:    99.135000000%\n"
          ]
        },
        {
          "output_type": "stream",
          "name": "stderr",
          "text": [
            "Epoch 76: 100%|██████████| 60000/60000 [00:29<00:00, 2043.92it/s]\n"
          ]
        },
        {
          "output_type": "stream",
          "name": "stdout",
          "text": [
            "Loss:     0.009257012  Acc:    99.143333333%\n"
          ]
        },
        {
          "output_type": "stream",
          "name": "stderr",
          "text": [
            "Epoch 77: 100%|██████████| 60000/60000 [00:27<00:00, 2147.57it/s]\n"
          ]
        },
        {
          "output_type": "stream",
          "name": "stdout",
          "text": [
            "Loss:     0.009096550  Acc:    99.155000000%\n"
          ]
        },
        {
          "output_type": "stream",
          "name": "stderr",
          "text": [
            "Epoch 78: 100%|██████████| 60000/60000 [00:29<00:00, 2029.75it/s]\n"
          ]
        },
        {
          "output_type": "stream",
          "name": "stdout",
          "text": [
            "Loss:     0.009144316  Acc:    99.160000000%\n"
          ]
        },
        {
          "output_type": "stream",
          "name": "stderr",
          "text": [
            "Epoch 79: 100%|██████████| 60000/60000 [00:28<00:00, 2134.66it/s]\n"
          ]
        },
        {
          "output_type": "stream",
          "name": "stdout",
          "text": [
            "Loss:     0.008938571  Acc:    99.158333333%\n"
          ]
        },
        {
          "output_type": "stream",
          "name": "stderr",
          "text": [
            "Epoch 80: 100%|██████████| 60000/60000 [00:29<00:00, 2024.45it/s]\n"
          ]
        },
        {
          "output_type": "stream",
          "name": "stdout",
          "text": [
            "Loss:     0.008874136  Acc:    99.185000000%\n"
          ]
        },
        {
          "output_type": "stream",
          "name": "stderr",
          "text": [
            "Epoch 81: 100%|██████████| 60000/60000 [00:27<00:00, 2142.86it/s]\n"
          ]
        },
        {
          "output_type": "stream",
          "name": "stdout",
          "text": [
            "Loss:     0.008729455  Acc:    99.185000000%\n"
          ]
        },
        {
          "output_type": "stream",
          "name": "stderr",
          "text": [
            "Epoch 82: 100%|██████████| 60000/60000 [00:29<00:00, 2040.77it/s]\n"
          ]
        },
        {
          "output_type": "stream",
          "name": "stdout",
          "text": [
            "Loss:     0.008607365  Acc:    99.203333333%\n"
          ]
        },
        {
          "output_type": "stream",
          "name": "stderr",
          "text": [
            "Epoch 83: 100%|██████████| 60000/60000 [00:27<00:00, 2158.51it/s]\n"
          ]
        },
        {
          "output_type": "stream",
          "name": "stdout",
          "text": [
            "Loss:     0.008534267  Acc:    99.206666667%\n"
          ]
        },
        {
          "output_type": "stream",
          "name": "stderr",
          "text": [
            "Epoch 84: 100%|██████████| 60000/60000 [00:29<00:00, 2039.53it/s]\n"
          ]
        },
        {
          "output_type": "stream",
          "name": "stdout",
          "text": [
            "Loss:     0.008366472  Acc:    99.216666667%\n"
          ]
        },
        {
          "output_type": "stream",
          "name": "stderr",
          "text": [
            "Epoch 85: 100%|██████████| 60000/60000 [00:28<00:00, 2127.55it/s]\n"
          ]
        },
        {
          "output_type": "stream",
          "name": "stdout",
          "text": [
            "Loss:     0.008312767  Acc:    99.221666667%\n"
          ]
        },
        {
          "output_type": "stream",
          "name": "stderr",
          "text": [
            "Epoch 86: 100%|██████████| 60000/60000 [00:29<00:00, 2055.32it/s]\n"
          ]
        },
        {
          "output_type": "stream",
          "name": "stdout",
          "text": [
            "Loss:     0.008385308  Acc:    99.241666667%\n"
          ]
        },
        {
          "output_type": "stream",
          "name": "stderr",
          "text": [
            "Epoch 87: 100%|██████████| 60000/60000 [00:27<00:00, 2159.04it/s]\n"
          ]
        },
        {
          "output_type": "stream",
          "name": "stdout",
          "text": [
            "Loss:     0.008188017  Acc:    99.230000000%\n"
          ]
        },
        {
          "output_type": "stream",
          "name": "stderr",
          "text": [
            "Epoch 88: 100%|██████████| 60000/60000 [00:29<00:00, 2060.17it/s]\n"
          ]
        },
        {
          "output_type": "stream",
          "name": "stdout",
          "text": [
            "Loss:     0.008040503  Acc:    99.248333333%\n"
          ]
        },
        {
          "output_type": "stream",
          "name": "stderr",
          "text": [
            "Epoch 89: 100%|██████████| 60000/60000 [00:28<00:00, 2133.66it/s]\n"
          ]
        },
        {
          "output_type": "stream",
          "name": "stdout",
          "text": [
            "Loss:     0.007997608  Acc:    99.250000000%\n"
          ]
        },
        {
          "output_type": "stream",
          "name": "stderr",
          "text": [
            "Epoch 90: 100%|██████████| 60000/60000 [00:29<00:00, 2031.08it/s]\n"
          ]
        },
        {
          "output_type": "stream",
          "name": "stdout",
          "text": [
            "Loss:     0.007871542  Acc:    99.251666667%\n"
          ]
        },
        {
          "output_type": "stream",
          "name": "stderr",
          "text": [
            "Epoch 91: 100%|██████████| 60000/60000 [00:27<00:00, 2149.98it/s]\n"
          ]
        },
        {
          "output_type": "stream",
          "name": "stdout",
          "text": [
            "Loss:     0.007809949  Acc:    99.255000000%\n"
          ]
        },
        {
          "output_type": "stream",
          "name": "stderr",
          "text": [
            "Epoch 92: 100%|██████████| 60000/60000 [00:29<00:00, 2043.68it/s]\n"
          ]
        },
        {
          "output_type": "stream",
          "name": "stdout",
          "text": [
            "Loss:     0.007765688  Acc:    99.268333333%\n"
          ]
        },
        {
          "output_type": "stream",
          "name": "stderr",
          "text": [
            "Epoch 93: 100%|██████████| 60000/60000 [00:28<00:00, 2122.48it/s]\n"
          ]
        },
        {
          "output_type": "stream",
          "name": "stdout",
          "text": [
            "Loss:     0.007791770  Acc:    99.273333333%\n"
          ]
        },
        {
          "output_type": "stream",
          "name": "stderr",
          "text": [
            "Epoch 94: 100%|██████████| 60000/60000 [00:29<00:00, 2056.29it/s]\n"
          ]
        },
        {
          "output_type": "stream",
          "name": "stdout",
          "text": [
            "Loss:     0.007545947  Acc:    99.280000000%\n"
          ]
        },
        {
          "output_type": "stream",
          "name": "stderr",
          "text": [
            "Epoch 95: 100%|██████████| 60000/60000 [00:28<00:00, 2130.34it/s]\n"
          ]
        },
        {
          "output_type": "stream",
          "name": "stdout",
          "text": [
            "Loss:     0.007429412  Acc:    99.293333333%\n"
          ]
        },
        {
          "output_type": "stream",
          "name": "stderr",
          "text": [
            "Epoch 96: 100%|██████████| 60000/60000 [00:29<00:00, 2051.14it/s]\n"
          ]
        },
        {
          "output_type": "stream",
          "name": "stdout",
          "text": [
            "Loss:     0.007457375  Acc:    99.293333333%\n"
          ]
        },
        {
          "output_type": "stream",
          "name": "stderr",
          "text": [
            "Epoch 97: 100%|██████████| 60000/60000 [00:27<00:00, 2155.31it/s]\n"
          ]
        },
        {
          "output_type": "stream",
          "name": "stdout",
          "text": [
            "Loss:     0.007317916  Acc:    99.308333333%\n"
          ]
        },
        {
          "output_type": "stream",
          "name": "stderr",
          "text": [
            "Epoch 98: 100%|██████████| 60000/60000 [00:29<00:00, 2046.26it/s]\n"
          ]
        },
        {
          "output_type": "stream",
          "name": "stdout",
          "text": [
            "Loss:     0.007266177  Acc:    99.305000000%\n"
          ]
        },
        {
          "output_type": "stream",
          "name": "stderr",
          "text": [
            "Epoch 99: 100%|██████████| 60000/60000 [00:28<00:00, 2139.87it/s]\n"
          ]
        },
        {
          "output_type": "stream",
          "name": "stdout",
          "text": [
            "Loss:     0.007181817  Acc:    99.306666667%\n"
          ]
        },
        {
          "output_type": "stream",
          "name": "stderr",
          "text": [
            "Epoch 100: 100%|██████████| 60000/60000 [00:29<00:00, 2038.54it/s]\n"
          ]
        },
        {
          "output_type": "stream",
          "name": "stdout",
          "text": [
            "Loss:     0.007109198  Acc:    99.306666667%\n"
          ]
        }
      ],
      "source": [
        "model = NeuralNetwork([28*28,86,10],0.015)\n",
        "print(\"Infor: {}\".format(model))\n",
        "print(\"Training network.....\\n\")\n",
        "model.fit(X_train,y_train,epochs = 100)"
      ]
    },
    {
      "cell_type": "code",
      "execution_count": 8,
      "metadata": {
        "colab": {
          "base_uri": "https://localhost:8080/",
          "height": 313
        },
        "id": "9K3fC9mx_WeA",
        "outputId": "941a3c67-34cb-44ae-d708-66a5ae7302c4"
      },
      "outputs": [
        {
          "output_type": "execute_result",
          "data": {
            "text/plain": [
              "Text(0, 0.5, 'Loss')"
            ]
          },
          "metadata": {},
          "execution_count": 8
        },
        {
          "output_type": "display_data",
          "data": {
            "text/plain": [
              "<Figure size 432x288 with 1 Axes>"
            ],
            "image/png": "[encoded data removed]"
          },
          "metadata": {
            "needs_background": "light"
          }
        }
      ],
      "source": [
        "plt.plot(model.loss_history)\n",
        "plt.title(\"Loss history\")\n",
        "plt.xlabel(\"Epoch\")\n",
        "plt.ylabel(\"Loss\")"
      ]
    },
    {
      "cell_type": "code",
      "execution_count": 9,
      "metadata": {
        "colab": {
          "base_uri": "https://localhost:8080/"
        },
        "id": "pGIsmstf607L",
        "outputId": "d63c2f00-7492-4eaf-ce50-7efbf2abddb2"
      },
      "outputs": [
        {
          "output_type": "stream",
          "name": "stdout",
          "text": [
            "Evaluating model.....\n",
            "Accuracy: 97.650000%\n",
            "\n",
            "Loss: 0.021238\n"
          ]
        }
      ],
      "source": [
        "model.evaluate(X_test,y_test)"
      ]
    },
    {
      "cell_type": "code",
      "execution_count": 10,
      "metadata": {
        "id": "HO-JLaHxMr_7"
      },
      "outputs": [],
      "source": [
        "predictions = model.predict(X_test)\n",
        "predictions = predictions.argmax(axis = 1)\n",
        "print(predictions[:5])"
      ]
    },
    {
      "cell_type": "code",
      "execution_count": 13,
      "metadata": {
        "colab": {
          "base_uri": "https://localhost:8080/",
          "height": 108
        },
        "id": "X2Zc46Fp66uz",
        "outputId": "8006dae3-4091-4e15-8505-20b8220afd33"
      },
      "outputs": [
        {
          "output_type": "display_data",
          "data": {
            "text/plain": [
              "<Figure size 432x288 with 5 Axes>"
            ],
            "image/png": "[encoded data removed]"
          },
          "metadata": {}
        }
      ],
      "source": [
        "plot_example(X_test,y_test)"
      ]
    }
  ],
  "metadata": {
    "accelerator": "GPU",
    "colab": {
      "collapsed_sections": [],
      "name": "Handwritten .ipynb",
      "provenance": [],
      "mount_file_id": "1hH7Pq8caZRelfiAyPi-VErV-9WYdExF4",
      "authorship_tag": "ABX9TyP6l9NBxFpKZp1ClMuUbwY8",
      "include_colab_link": true
    },
    "kernelspec": {
      "display_name": "Python 3",
      "name": "python3"
    },
    "language_info": {
      "name": "python"
    }
  },
  "nbformat": 4,
  "nbformat_minor": 0
}
